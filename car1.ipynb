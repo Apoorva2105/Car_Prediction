{
 "cells": [
  {
   "cell_type": "code",
   "execution_count": 2,
   "id": "8afcc902-8218-4742-8f58-a2c250e3d21a",
   "metadata": {},
   "outputs": [],
   "source": [
    "import pandas as pd\n",
    "import numpy as np\n",
    "\n",
    "from sklearn.model_selection import train_test_split\n",
    "from sklearn.linear_model import LinearRegression"
   ]
  },
  {
   "cell_type": "code",
   "execution_count": 3,
   "id": "f8c3e39e-0ca9-47c4-b3f8-d781b29c5105",
   "metadata": {},
   "outputs": [],
   "source": [
    "car_data=pd.read_csv('Cardetails.csv')"
   ]
  },
  {
   "cell_type": "code",
   "execution_count": 4,
   "id": "705db9a7-d95b-4864-8cc8-cecb54f625de",
   "metadata": {},
   "outputs": [
    {
     "data": {
      "text/html": [
       "<div>\n",
       "<style scoped>\n",
       "    .dataframe tbody tr th:only-of-type {\n",
       "        vertical-align: middle;\n",
       "    }\n",
       "\n",
       "    .dataframe tbody tr th {\n",
       "        vertical-align: top;\n",
       "    }\n",
       "\n",
       "    .dataframe thead th {\n",
       "        text-align: right;\n",
       "    }\n",
       "</style>\n",
       "<table border=\"1\" class=\"dataframe\">\n",
       "  <thead>\n",
       "    <tr style=\"text-align: right;\">\n",
       "      <th></th>\n",
       "      <th>name</th>\n",
       "      <th>year</th>\n",
       "      <th>selling_price</th>\n",
       "      <th>km_driven</th>\n",
       "      <th>fuel</th>\n",
       "      <th>seller_type</th>\n",
       "      <th>transmission</th>\n",
       "      <th>owner</th>\n",
       "      <th>mileage</th>\n",
       "      <th>engine</th>\n",
       "      <th>max_power</th>\n",
       "      <th>torque</th>\n",
       "      <th>seats</th>\n",
       "    </tr>\n",
       "  </thead>\n",
       "  <tbody>\n",
       "    <tr>\n",
       "      <th>0</th>\n",
       "      <td>Maruti Swift Dzire VDI</td>\n",
       "      <td>2014</td>\n",
       "      <td>450000</td>\n",
       "      <td>145500</td>\n",
       "      <td>Diesel</td>\n",
       "      <td>Individual</td>\n",
       "      <td>Manual</td>\n",
       "      <td>First Owner</td>\n",
       "      <td>23.4 kmpl</td>\n",
       "      <td>1248 CC</td>\n",
       "      <td>74 bhp</td>\n",
       "      <td>190Nm@ 2000rpm</td>\n",
       "      <td>5.0</td>\n",
       "    </tr>\n",
       "    <tr>\n",
       "      <th>1</th>\n",
       "      <td>Skoda Rapid 1.5 TDI Ambition</td>\n",
       "      <td>2014</td>\n",
       "      <td>370000</td>\n",
       "      <td>120000</td>\n",
       "      <td>Diesel</td>\n",
       "      <td>Individual</td>\n",
       "      <td>Manual</td>\n",
       "      <td>Second Owner</td>\n",
       "      <td>21.14 kmpl</td>\n",
       "      <td>1498 CC</td>\n",
       "      <td>103.52 bhp</td>\n",
       "      <td>250Nm@ 1500-2500rpm</td>\n",
       "      <td>5.0</td>\n",
       "    </tr>\n",
       "    <tr>\n",
       "      <th>2</th>\n",
       "      <td>Honda City 2017-2020 EXi</td>\n",
       "      <td>2006</td>\n",
       "      <td>158000</td>\n",
       "      <td>140000</td>\n",
       "      <td>Petrol</td>\n",
       "      <td>Individual</td>\n",
       "      <td>Manual</td>\n",
       "      <td>Third Owner</td>\n",
       "      <td>17.7 kmpl</td>\n",
       "      <td>1497 CC</td>\n",
       "      <td>78 bhp</td>\n",
       "      <td>12.7@ 2,700(kgm@ rpm)</td>\n",
       "      <td>5.0</td>\n",
       "    </tr>\n",
       "    <tr>\n",
       "      <th>3</th>\n",
       "      <td>Hyundai i20 Sportz Diesel</td>\n",
       "      <td>2010</td>\n",
       "      <td>225000</td>\n",
       "      <td>127000</td>\n",
       "      <td>Diesel</td>\n",
       "      <td>Individual</td>\n",
       "      <td>Manual</td>\n",
       "      <td>First Owner</td>\n",
       "      <td>23.0 kmpl</td>\n",
       "      <td>1396 CC</td>\n",
       "      <td>90 bhp</td>\n",
       "      <td>22.4 kgm at 1750-2750rpm</td>\n",
       "      <td>5.0</td>\n",
       "    </tr>\n",
       "    <tr>\n",
       "      <th>4</th>\n",
       "      <td>Maruti Swift VXI BSIII</td>\n",
       "      <td>2007</td>\n",
       "      <td>130000</td>\n",
       "      <td>120000</td>\n",
       "      <td>Petrol</td>\n",
       "      <td>Individual</td>\n",
       "      <td>Manual</td>\n",
       "      <td>First Owner</td>\n",
       "      <td>16.1 kmpl</td>\n",
       "      <td>1298 CC</td>\n",
       "      <td>88.2 bhp</td>\n",
       "      <td>11.5@ 4,500(kgm@ rpm)</td>\n",
       "      <td>5.0</td>\n",
       "    </tr>\n",
       "  </tbody>\n",
       "</table>\n",
       "</div>"
      ],
      "text/plain": [
       "                           name  year  selling_price  km_driven    fuel  \\\n",
       "0        Maruti Swift Dzire VDI  2014         450000     145500  Diesel   \n",
       "1  Skoda Rapid 1.5 TDI Ambition  2014         370000     120000  Diesel   \n",
       "2      Honda City 2017-2020 EXi  2006         158000     140000  Petrol   \n",
       "3     Hyundai i20 Sportz Diesel  2010         225000     127000  Diesel   \n",
       "4        Maruti Swift VXI BSIII  2007         130000     120000  Petrol   \n",
       "\n",
       "  seller_type transmission         owner     mileage   engine   max_power  \\\n",
       "0  Individual       Manual   First Owner   23.4 kmpl  1248 CC      74 bhp   \n",
       "1  Individual       Manual  Second Owner  21.14 kmpl  1498 CC  103.52 bhp   \n",
       "2  Individual       Manual   Third Owner   17.7 kmpl  1497 CC      78 bhp   \n",
       "3  Individual       Manual   First Owner   23.0 kmpl  1396 CC      90 bhp   \n",
       "4  Individual       Manual   First Owner   16.1 kmpl  1298 CC    88.2 bhp   \n",
       "\n",
       "                     torque  seats  \n",
       "0            190Nm@ 2000rpm    5.0  \n",
       "1       250Nm@ 1500-2500rpm    5.0  \n",
       "2     12.7@ 2,700(kgm@ rpm)    5.0  \n",
       "3  22.4 kgm at 1750-2750rpm    5.0  \n",
       "4     11.5@ 4,500(kgm@ rpm)    5.0  "
      ]
     },
     "execution_count": 4,
     "metadata": {},
     "output_type": "execute_result"
    }
   ],
   "source": [
    "car_data.head()"
   ]
  },
  {
   "cell_type": "code",
   "execution_count": 5,
   "id": "6202cc2c-d8d3-48f5-8f98-ce4cd1f563c4",
   "metadata": {},
   "outputs": [
    {
     "name": "stdout",
     "output_type": "stream",
     "text": [
      "<class 'pandas.core.frame.DataFrame'>\n",
      "RangeIndex: 8128 entries, 0 to 8127\n",
      "Data columns (total 13 columns):\n",
      " #   Column         Non-Null Count  Dtype  \n",
      "---  ------         --------------  -----  \n",
      " 0   name           8128 non-null   object \n",
      " 1   year           8128 non-null   int64  \n",
      " 2   selling_price  8128 non-null   int64  \n",
      " 3   km_driven      8128 non-null   int64  \n",
      " 4   fuel           8128 non-null   object \n",
      " 5   seller_type    8128 non-null   object \n",
      " 6   transmission   8128 non-null   object \n",
      " 7   owner          8128 non-null   object \n",
      " 8   mileage        7907 non-null   object \n",
      " 9   engine         7907 non-null   object \n",
      " 10  max_power      7913 non-null   object \n",
      " 11  torque         7906 non-null   object \n",
      " 12  seats          7907 non-null   float64\n",
      "dtypes: float64(1), int64(3), object(9)\n",
      "memory usage: 825.6+ KB\n"
     ]
    }
   ],
   "source": [
    "car_data.info()"
   ]
  },
  {
   "cell_type": "code",
   "execution_count": 6,
   "id": "0e83aa34-6c4b-4520-b9f8-f03a99410405",
   "metadata": {},
   "outputs": [],
   "source": [
    "car_data.drop(columns=['torque'],inplace= True)"
   ]
  },
  {
   "cell_type": "code",
   "execution_count": 7,
   "id": "9759ff29-a927-4092-8b67-e49031b47a1e",
   "metadata": {},
   "outputs": [
    {
     "data": {
      "text/html": [
       "<div>\n",
       "<style scoped>\n",
       "    .dataframe tbody tr th:only-of-type {\n",
       "        vertical-align: middle;\n",
       "    }\n",
       "\n",
       "    .dataframe tbody tr th {\n",
       "        vertical-align: top;\n",
       "    }\n",
       "\n",
       "    .dataframe thead th {\n",
       "        text-align: right;\n",
       "    }\n",
       "</style>\n",
       "<table border=\"1\" class=\"dataframe\">\n",
       "  <thead>\n",
       "    <tr style=\"text-align: right;\">\n",
       "      <th></th>\n",
       "      <th>name</th>\n",
       "      <th>year</th>\n",
       "      <th>selling_price</th>\n",
       "      <th>km_driven</th>\n",
       "      <th>fuel</th>\n",
       "      <th>seller_type</th>\n",
       "      <th>transmission</th>\n",
       "      <th>owner</th>\n",
       "      <th>mileage</th>\n",
       "      <th>engine</th>\n",
       "      <th>max_power</th>\n",
       "      <th>seats</th>\n",
       "    </tr>\n",
       "  </thead>\n",
       "  <tbody>\n",
       "    <tr>\n",
       "      <th>0</th>\n",
       "      <td>Maruti Swift Dzire VDI</td>\n",
       "      <td>2014</td>\n",
       "      <td>450000</td>\n",
       "      <td>145500</td>\n",
       "      <td>Diesel</td>\n",
       "      <td>Individual</td>\n",
       "      <td>Manual</td>\n",
       "      <td>First Owner</td>\n",
       "      <td>23.4 kmpl</td>\n",
       "      <td>1248 CC</td>\n",
       "      <td>74 bhp</td>\n",
       "      <td>5.0</td>\n",
       "    </tr>\n",
       "    <tr>\n",
       "      <th>1</th>\n",
       "      <td>Skoda Rapid 1.5 TDI Ambition</td>\n",
       "      <td>2014</td>\n",
       "      <td>370000</td>\n",
       "      <td>120000</td>\n",
       "      <td>Diesel</td>\n",
       "      <td>Individual</td>\n",
       "      <td>Manual</td>\n",
       "      <td>Second Owner</td>\n",
       "      <td>21.14 kmpl</td>\n",
       "      <td>1498 CC</td>\n",
       "      <td>103.52 bhp</td>\n",
       "      <td>5.0</td>\n",
       "    </tr>\n",
       "    <tr>\n",
       "      <th>2</th>\n",
       "      <td>Honda City 2017-2020 EXi</td>\n",
       "      <td>2006</td>\n",
       "      <td>158000</td>\n",
       "      <td>140000</td>\n",
       "      <td>Petrol</td>\n",
       "      <td>Individual</td>\n",
       "      <td>Manual</td>\n",
       "      <td>Third Owner</td>\n",
       "      <td>17.7 kmpl</td>\n",
       "      <td>1497 CC</td>\n",
       "      <td>78 bhp</td>\n",
       "      <td>5.0</td>\n",
       "    </tr>\n",
       "    <tr>\n",
       "      <th>3</th>\n",
       "      <td>Hyundai i20 Sportz Diesel</td>\n",
       "      <td>2010</td>\n",
       "      <td>225000</td>\n",
       "      <td>127000</td>\n",
       "      <td>Diesel</td>\n",
       "      <td>Individual</td>\n",
       "      <td>Manual</td>\n",
       "      <td>First Owner</td>\n",
       "      <td>23.0 kmpl</td>\n",
       "      <td>1396 CC</td>\n",
       "      <td>90 bhp</td>\n",
       "      <td>5.0</td>\n",
       "    </tr>\n",
       "    <tr>\n",
       "      <th>4</th>\n",
       "      <td>Maruti Swift VXI BSIII</td>\n",
       "      <td>2007</td>\n",
       "      <td>130000</td>\n",
       "      <td>120000</td>\n",
       "      <td>Petrol</td>\n",
       "      <td>Individual</td>\n",
       "      <td>Manual</td>\n",
       "      <td>First Owner</td>\n",
       "      <td>16.1 kmpl</td>\n",
       "      <td>1298 CC</td>\n",
       "      <td>88.2 bhp</td>\n",
       "      <td>5.0</td>\n",
       "    </tr>\n",
       "  </tbody>\n",
       "</table>\n",
       "</div>"
      ],
      "text/plain": [
       "                           name  year  selling_price  km_driven    fuel  \\\n",
       "0        Maruti Swift Dzire VDI  2014         450000     145500  Diesel   \n",
       "1  Skoda Rapid 1.5 TDI Ambition  2014         370000     120000  Diesel   \n",
       "2      Honda City 2017-2020 EXi  2006         158000     140000  Petrol   \n",
       "3     Hyundai i20 Sportz Diesel  2010         225000     127000  Diesel   \n",
       "4        Maruti Swift VXI BSIII  2007         130000     120000  Petrol   \n",
       "\n",
       "  seller_type transmission         owner     mileage   engine   max_power  \\\n",
       "0  Individual       Manual   First Owner   23.4 kmpl  1248 CC      74 bhp   \n",
       "1  Individual       Manual  Second Owner  21.14 kmpl  1498 CC  103.52 bhp   \n",
       "2  Individual       Manual   Third Owner   17.7 kmpl  1497 CC      78 bhp   \n",
       "3  Individual       Manual   First Owner   23.0 kmpl  1396 CC      90 bhp   \n",
       "4  Individual       Manual   First Owner   16.1 kmpl  1298 CC    88.2 bhp   \n",
       "\n",
       "   seats  \n",
       "0    5.0  \n",
       "1    5.0  \n",
       "2    5.0  \n",
       "3    5.0  \n",
       "4    5.0  "
      ]
     },
     "execution_count": 7,
     "metadata": {},
     "output_type": "execute_result"
    }
   ],
   "source": [
    "car_data.head()"
   ]
  },
  {
   "cell_type": "code",
   "execution_count": 8,
   "id": "e617195c-f66f-458d-a6ce-5f09a543f71f",
   "metadata": {},
   "outputs": [
    {
     "data": {
      "text/plain": [
       "(8128, 12)"
      ]
     },
     "execution_count": 8,
     "metadata": {},
     "output_type": "execute_result"
    }
   ],
   "source": [
    "car_data.shape"
   ]
  },
  {
   "cell_type": "markdown",
   "id": "0664a446-9582-4150-9be4-78753623e79b",
   "metadata": {},
   "source": [
    "### Data Preprocessing"
   ]
  },
  {
   "cell_type": "markdown",
   "id": "c6928d05-702c-43df-b52e-203cf6e4213a",
   "metadata": {},
   "source": [
    "#### Null check"
   ]
  },
  {
   "cell_type": "code",
   "execution_count": 9,
   "id": "3790bf15-6cb3-417f-aa8a-282505ca7ea2",
   "metadata": {},
   "outputs": [
    {
     "data": {
      "text/plain": [
       "name               0\n",
       "year               0\n",
       "selling_price      0\n",
       "km_driven          0\n",
       "fuel               0\n",
       "seller_type        0\n",
       "transmission       0\n",
       "owner              0\n",
       "mileage          221\n",
       "engine           221\n",
       "max_power        215\n",
       "seats            221\n",
       "dtype: int64"
      ]
     },
     "execution_count": 9,
     "metadata": {},
     "output_type": "execute_result"
    }
   ],
   "source": [
    "car_data.isna().sum()"
   ]
  },
  {
   "cell_type": "markdown",
   "id": "3c6cc8e5-8cad-474e-bc22-459cfa3f34ac",
   "metadata": {},
   "source": [
    "#### Drop Null Records"
   ]
  },
  {
   "cell_type": "code",
   "execution_count": 10,
   "id": "afbe1572-bee9-44a0-a221-072ec2937c80",
   "metadata": {},
   "outputs": [],
   "source": [
    "car_data.dropna(inplace=True)"
   ]
  },
  {
   "cell_type": "code",
   "execution_count": 11,
   "id": "ffa9a11d-5463-4cc9-999a-7da235918787",
   "metadata": {},
   "outputs": [
    {
     "data": {
      "text/plain": [
       "(7907, 12)"
      ]
     },
     "execution_count": 11,
     "metadata": {},
     "output_type": "execute_result"
    }
   ],
   "source": [
    "car_data.shape"
   ]
  },
  {
   "cell_type": "markdown",
   "id": "7c56a127-df57-427b-9b43-421ce45805ab",
   "metadata": {},
   "source": [
    "#### Duplicate Check"
   ]
  },
  {
   "cell_type": "code",
   "execution_count": 12,
   "id": "9c3d95a4-0223-4197-b1a0-2a6dd772cd10",
   "metadata": {},
   "outputs": [
    {
     "data": {
      "text/plain": [
       "1189"
      ]
     },
     "execution_count": 12,
     "metadata": {},
     "output_type": "execute_result"
    }
   ],
   "source": [
    "car_data.duplicated().sum() #get number of duplicate records"
   ]
  },
  {
   "cell_type": "code",
   "execution_count": 13,
   "id": "455b84ff-e7fc-4ded-9c66-12e4d490d699",
   "metadata": {},
   "outputs": [],
   "source": [
    "car_data.drop_duplicates(inplace=True) #drop duplicate records"
   ]
  },
  {
   "cell_type": "code",
   "execution_count": 14,
   "id": "68a8214a-2145-4950-83c3-3647188e16d6",
   "metadata": {},
   "outputs": [
    {
     "data": {
      "text/plain": [
       "(6718, 12)"
      ]
     },
     "execution_count": 14,
     "metadata": {},
     "output_type": "execute_result"
    }
   ],
   "source": [
    "car_data.shape"
   ]
  },
  {
   "cell_type": "code",
   "execution_count": 15,
   "id": "8a827267-3093-4157-aa52-a774f4b962ef",
   "metadata": {},
   "outputs": [
    {
     "name": "stdout",
     "output_type": "stream",
     "text": [
      "<class 'pandas.core.frame.DataFrame'>\n",
      "Index: 6718 entries, 0 to 8125\n",
      "Data columns (total 12 columns):\n",
      " #   Column         Non-Null Count  Dtype  \n",
      "---  ------         --------------  -----  \n",
      " 0   name           6718 non-null   object \n",
      " 1   year           6718 non-null   int64  \n",
      " 2   selling_price  6718 non-null   int64  \n",
      " 3   km_driven      6718 non-null   int64  \n",
      " 4   fuel           6718 non-null   object \n",
      " 5   seller_type    6718 non-null   object \n",
      " 6   transmission   6718 non-null   object \n",
      " 7   owner          6718 non-null   object \n",
      " 8   mileage        6718 non-null   object \n",
      " 9   engine         6718 non-null   object \n",
      " 10  max_power      6718 non-null   object \n",
      " 11  seats          6718 non-null   float64\n",
      "dtypes: float64(1), int64(3), object(8)\n",
      "memory usage: 682.3+ KB\n"
     ]
    }
   ],
   "source": [
    "car_data.info()"
   ]
  },
  {
   "cell_type": "markdown",
   "id": "503d0630-d6c3-4a14-a3e3-d00191122d76",
   "metadata": {},
   "source": [
    "#### Data Analysis"
   ]
  },
  {
   "cell_type": "code",
   "execution_count": 16,
   "id": "edad8188-c4e2-491c-a3a0-4541397ed28f",
   "metadata": {},
   "outputs": [
    {
     "name": "stdout",
     "output_type": "stream",
     "text": [
      "unique values of name\n",
      "<bound method Series.unique of 0                  Maruti Swift Dzire VDI\n",
      "1            Skoda Rapid 1.5 TDI Ambition\n",
      "2                Honda City 2017-2020 EXi\n",
      "3               Hyundai i20 Sportz Diesel\n",
      "4                  Maruti Swift VXI BSIII\n",
      "                      ...                \n",
      "8121    Maruti Wagon R VXI BS IV with ABS\n",
      "8122           Hyundai i20 Magna 1.4 CRDi\n",
      "8123                    Hyundai i20 Magna\n",
      "8124                Hyundai Verna CRDi SX\n",
      "8125               Maruti Swift Dzire ZDi\n",
      "Name: name, Length: 6718, dtype: object>\n",
      "===========================\n",
      "\n",
      "unique values of year\n",
      "<bound method Series.unique of 0       2014\n",
      "1       2014\n",
      "2       2006\n",
      "3       2010\n",
      "4       2007\n",
      "        ... \n",
      "8121    2013\n",
      "8122    2014\n",
      "8123    2013\n",
      "8124    2007\n",
      "8125    2009\n",
      "Name: year, Length: 6718, dtype: int64>\n",
      "===========================\n",
      "\n",
      "unique values of selling_price\n",
      "<bound method Series.unique of 0       450000\n",
      "1       370000\n",
      "2       158000\n",
      "3       225000\n",
      "4       130000\n",
      "         ...  \n",
      "8121    260000\n",
      "8122    475000\n",
      "8123    320000\n",
      "8124    135000\n",
      "8125    382000\n",
      "Name: selling_price, Length: 6718, dtype: int64>\n",
      "===========================\n",
      "\n",
      "unique values of km_driven\n",
      "<bound method Series.unique of 0       145500\n",
      "1       120000\n",
      "2       140000\n",
      "3       127000\n",
      "4       120000\n",
      "         ...  \n",
      "8121     50000\n",
      "8122     80000\n",
      "8123    110000\n",
      "8124    119000\n",
      "8125    120000\n",
      "Name: km_driven, Length: 6718, dtype: int64>\n",
      "===========================\n",
      "\n",
      "unique values of fuel\n",
      "<bound method Series.unique of 0       Diesel\n",
      "1       Diesel\n",
      "2       Petrol\n",
      "3       Diesel\n",
      "4       Petrol\n",
      "         ...  \n",
      "8121    Petrol\n",
      "8122    Diesel\n",
      "8123    Petrol\n",
      "8124    Diesel\n",
      "8125    Diesel\n",
      "Name: fuel, Length: 6718, dtype: object>\n",
      "===========================\n",
      "\n",
      "unique values of seller_type\n",
      "<bound method Series.unique of 0       Individual\n",
      "1       Individual\n",
      "2       Individual\n",
      "3       Individual\n",
      "4       Individual\n",
      "           ...    \n",
      "8121    Individual\n",
      "8122    Individual\n",
      "8123    Individual\n",
      "8124    Individual\n",
      "8125    Individual\n",
      "Name: seller_type, Length: 6718, dtype: object>\n",
      "===========================\n",
      "\n",
      "unique values of transmission\n",
      "<bound method Series.unique of 0       Manual\n",
      "1       Manual\n",
      "2       Manual\n",
      "3       Manual\n",
      "4       Manual\n",
      "         ...  \n",
      "8121    Manual\n",
      "8122    Manual\n",
      "8123    Manual\n",
      "8124    Manual\n",
      "8125    Manual\n",
      "Name: transmission, Length: 6718, dtype: object>\n",
      "===========================\n",
      "\n",
      "unique values of owner\n",
      "<bound method Series.unique of 0                First Owner\n",
      "1               Second Owner\n",
      "2                Third Owner\n",
      "3                First Owner\n",
      "4                First Owner\n",
      "                ...         \n",
      "8121            Second Owner\n",
      "8122            Second Owner\n",
      "8123             First Owner\n",
      "8124    Fourth & Above Owner\n",
      "8125             First Owner\n",
      "Name: owner, Length: 6718, dtype: object>\n",
      "===========================\n",
      "\n",
      "unique values of mileage\n",
      "<bound method Series.unique of 0        23.4 kmpl\n",
      "1       21.14 kmpl\n",
      "2        17.7 kmpl\n",
      "3        23.0 kmpl\n",
      "4        16.1 kmpl\n",
      "           ...    \n",
      "8121     18.9 kmpl\n",
      "8122    22.54 kmpl\n",
      "8123     18.5 kmpl\n",
      "8124     16.8 kmpl\n",
      "8125     19.3 kmpl\n",
      "Name: mileage, Length: 6718, dtype: object>\n",
      "===========================\n",
      "\n",
      "unique values of engine\n",
      "<bound method Series.unique of 0       1248 CC\n",
      "1       1498 CC\n",
      "2       1497 CC\n",
      "3       1396 CC\n",
      "4       1298 CC\n",
      "         ...   \n",
      "8121     998 CC\n",
      "8122    1396 CC\n",
      "8123    1197 CC\n",
      "8124    1493 CC\n",
      "8125    1248 CC\n",
      "Name: engine, Length: 6718, dtype: object>\n",
      "===========================\n",
      "\n",
      "unique values of max_power\n",
      "<bound method Series.unique of 0           74 bhp\n",
      "1       103.52 bhp\n",
      "2           78 bhp\n",
      "3           90 bhp\n",
      "4         88.2 bhp\n",
      "           ...    \n",
      "8121      67.1 bhp\n",
      "8122     88.73 bhp\n",
      "8123     82.85 bhp\n",
      "8124       110 bhp\n",
      "8125      73.9 bhp\n",
      "Name: max_power, Length: 6718, dtype: object>\n",
      "===========================\n",
      "\n",
      "unique values of seats\n",
      "<bound method Series.unique of 0       5.0\n",
      "1       5.0\n",
      "2       5.0\n",
      "3       5.0\n",
      "4       5.0\n",
      "       ... \n",
      "8121    5.0\n",
      "8122    5.0\n",
      "8123    5.0\n",
      "8124    5.0\n",
      "8125    5.0\n",
      "Name: seats, Length: 6718, dtype: float64>\n",
      "===========================\n",
      "\n"
     ]
    }
   ],
   "source": [
    "for col in car_data.columns:\n",
    "    print(\"unique values of \"+col)\n",
    "    print(car_data[col].unique)\n",
    "    print(\"===========================\\n\")"
   ]
  },
  {
   "cell_type": "code",
   "execution_count": 17,
   "id": "84aa2b75-fe24-4335-8fe8-3bbd3dc97653",
   "metadata": {},
   "outputs": [],
   "source": [
    "def get_brand_name(car_name):\n",
    "    car_name=car_name.split(\" \")[0]\n",
    "    return car_name.strip(\" \")"
   ]
  },
  {
   "cell_type": "code",
   "execution_count": null,
   "id": "1481c61e-228c-44a9-a479-913ea77fe849",
   "metadata": {},
   "outputs": [],
   "source": []
  },
  {
   "cell_type": "code",
   "execution_count": 18,
   "id": "005f2751-f723-4b91-990f-23407a543712",
   "metadata": {},
   "outputs": [
    {
     "data": {
      "text/plain": [
       "'Maruti'"
      ]
     },
     "execution_count": 18,
     "metadata": {},
     "output_type": "execute_result"
    }
   ],
   "source": [
    "get_brand_name(\"Maruti Swift  Dzire  VDI\")"
   ]
  },
  {
   "cell_type": "code",
   "execution_count": null,
   "id": "23d8ed34-f07a-47e4-80bb-07cd25c900e8",
   "metadata": {},
   "outputs": [],
   "source": []
  },
  {
   "cell_type": "code",
   "execution_count": 19,
   "id": "2b7dfe94-e7b7-4830-9e53-0582a2958539",
   "metadata": {},
   "outputs": [],
   "source": [
    "car_data['name']=car_data['name'].apply(get_brand_name)"
   ]
  },
  {
   "cell_type": "code",
   "execution_count": 20,
   "id": "4edd620e-1296-40b3-be28-b4e3ade89328",
   "metadata": {},
   "outputs": [
    {
     "data": {
      "text/plain": [
       "array(['Maruti', 'Skoda', 'Honda', 'Hyundai', 'Toyota', 'Ford', 'Renault',\n",
       "       'Mahindra', 'Tata', 'Chevrolet', 'Datsun', 'Jeep', 'Mercedes-Benz',\n",
       "       'Mitsubishi', 'Audi', 'Volkswagen', 'BMW', 'Nissan', 'Lexus',\n",
       "       'Jaguar', 'Land', 'MG', 'Volvo', 'Daewoo', 'Kia', 'Fiat', 'Force',\n",
       "       'Ambassador', 'Ashok', 'Isuzu', 'Opel'], dtype=object)"
      ]
     },
     "execution_count": 20,
     "metadata": {},
     "output_type": "execute_result"
    }
   ],
   "source": [
    "car_data['name'].unique()"
   ]
  },
  {
   "cell_type": "code",
   "execution_count": 21,
   "id": "bd06d3da-8690-4f87-9936-68af5658a1b2",
   "metadata": {},
   "outputs": [],
   "source": [
    "car_data['mileage']=car_data['mileage'].apply(get_brand_name)"
   ]
  },
  {
   "cell_type": "code",
   "execution_count": 22,
   "id": "6f38f853-0184-44f5-9e43-626657643c42",
   "metadata": {},
   "outputs": [],
   "source": [
    "car_data['max_power']=car_data['max_power'].apply(get_brand_name)"
   ]
  },
  {
   "cell_type": "code",
   "execution_count": 23,
   "id": "fc9bfd45-02fd-4147-91e6-0f9c48c4c2b8",
   "metadata": {},
   "outputs": [],
   "source": [
    "car_data['engine']=car_data['engine'].apply(get_brand_name)"
   ]
  },
  {
   "cell_type": "code",
   "execution_count": 24,
   "id": "5b15e3b2-70f3-4d6a-aca9-0b0d085875b9",
   "metadata": {},
   "outputs": [
    {
     "name": "stdout",
     "output_type": "stream",
     "text": [
      "unique values of name\n",
      "<bound method Series.unique of 0        Maruti\n",
      "1         Skoda\n",
      "2         Honda\n",
      "3       Hyundai\n",
      "4        Maruti\n",
      "         ...   \n",
      "8121     Maruti\n",
      "8122    Hyundai\n",
      "8123    Hyundai\n",
      "8124    Hyundai\n",
      "8125     Maruti\n",
      "Name: name, Length: 6718, dtype: object>\n",
      "===========================\n",
      "\n",
      "unique values of year\n",
      "<bound method Series.unique of 0       2014\n",
      "1       2014\n",
      "2       2006\n",
      "3       2010\n",
      "4       2007\n",
      "        ... \n",
      "8121    2013\n",
      "8122    2014\n",
      "8123    2013\n",
      "8124    2007\n",
      "8125    2009\n",
      "Name: year, Length: 6718, dtype: int64>\n",
      "===========================\n",
      "\n",
      "unique values of selling_price\n",
      "<bound method Series.unique of 0       450000\n",
      "1       370000\n",
      "2       158000\n",
      "3       225000\n",
      "4       130000\n",
      "         ...  \n",
      "8121    260000\n",
      "8122    475000\n",
      "8123    320000\n",
      "8124    135000\n",
      "8125    382000\n",
      "Name: selling_price, Length: 6718, dtype: int64>\n",
      "===========================\n",
      "\n",
      "unique values of km_driven\n",
      "<bound method Series.unique of 0       145500\n",
      "1       120000\n",
      "2       140000\n",
      "3       127000\n",
      "4       120000\n",
      "         ...  \n",
      "8121     50000\n",
      "8122     80000\n",
      "8123    110000\n",
      "8124    119000\n",
      "8125    120000\n",
      "Name: km_driven, Length: 6718, dtype: int64>\n",
      "===========================\n",
      "\n",
      "unique values of fuel\n",
      "<bound method Series.unique of 0       Diesel\n",
      "1       Diesel\n",
      "2       Petrol\n",
      "3       Diesel\n",
      "4       Petrol\n",
      "         ...  \n",
      "8121    Petrol\n",
      "8122    Diesel\n",
      "8123    Petrol\n",
      "8124    Diesel\n",
      "8125    Diesel\n",
      "Name: fuel, Length: 6718, dtype: object>\n",
      "===========================\n",
      "\n",
      "unique values of seller_type\n",
      "<bound method Series.unique of 0       Individual\n",
      "1       Individual\n",
      "2       Individual\n",
      "3       Individual\n",
      "4       Individual\n",
      "           ...    \n",
      "8121    Individual\n",
      "8122    Individual\n",
      "8123    Individual\n",
      "8124    Individual\n",
      "8125    Individual\n",
      "Name: seller_type, Length: 6718, dtype: object>\n",
      "===========================\n",
      "\n",
      "unique values of transmission\n",
      "<bound method Series.unique of 0       Manual\n",
      "1       Manual\n",
      "2       Manual\n",
      "3       Manual\n",
      "4       Manual\n",
      "         ...  \n",
      "8121    Manual\n",
      "8122    Manual\n",
      "8123    Manual\n",
      "8124    Manual\n",
      "8125    Manual\n",
      "Name: transmission, Length: 6718, dtype: object>\n",
      "===========================\n",
      "\n",
      "unique values of owner\n",
      "<bound method Series.unique of 0                First Owner\n",
      "1               Second Owner\n",
      "2                Third Owner\n",
      "3                First Owner\n",
      "4                First Owner\n",
      "                ...         \n",
      "8121            Second Owner\n",
      "8122            Second Owner\n",
      "8123             First Owner\n",
      "8124    Fourth & Above Owner\n",
      "8125             First Owner\n",
      "Name: owner, Length: 6718, dtype: object>\n",
      "===========================\n",
      "\n",
      "unique values of mileage\n",
      "<bound method Series.unique of 0        23.4\n",
      "1       21.14\n",
      "2        17.7\n",
      "3        23.0\n",
      "4        16.1\n",
      "        ...  \n",
      "8121     18.9\n",
      "8122    22.54\n",
      "8123     18.5\n",
      "8124     16.8\n",
      "8125     19.3\n",
      "Name: mileage, Length: 6718, dtype: object>\n",
      "===========================\n",
      "\n",
      "unique values of engine\n",
      "<bound method Series.unique of 0       1248\n",
      "1       1498\n",
      "2       1497\n",
      "3       1396\n",
      "4       1298\n",
      "        ... \n",
      "8121     998\n",
      "8122    1396\n",
      "8123    1197\n",
      "8124    1493\n",
      "8125    1248\n",
      "Name: engine, Length: 6718, dtype: object>\n",
      "===========================\n",
      "\n",
      "unique values of max_power\n",
      "<bound method Series.unique of 0           74\n",
      "1       103.52\n",
      "2           78\n",
      "3           90\n",
      "4         88.2\n",
      "         ...  \n",
      "8121      67.1\n",
      "8122     88.73\n",
      "8123     82.85\n",
      "8124       110\n",
      "8125      73.9\n",
      "Name: max_power, Length: 6718, dtype: object>\n",
      "===========================\n",
      "\n",
      "unique values of seats\n",
      "<bound method Series.unique of 0       5.0\n",
      "1       5.0\n",
      "2       5.0\n",
      "3       5.0\n",
      "4       5.0\n",
      "       ... \n",
      "8121    5.0\n",
      "8122    5.0\n",
      "8123    5.0\n",
      "8124    5.0\n",
      "8125    5.0\n",
      "Name: seats, Length: 6718, dtype: float64>\n",
      "===========================\n",
      "\n"
     ]
    }
   ],
   "source": [
    "for col in car_data.columns:\n",
    "    print(\"unique values of \"+col)\n",
    "    print(car_data[col].unique)\n",
    "    print(\"===========================\\n\")"
   ]
  },
  {
   "cell_type": "code",
   "execution_count": 25,
   "id": "6a049959-2840-4592-906b-472607c4d8f0",
   "metadata": {},
   "outputs": [],
   "source": [
    "car_data['name'].replace(['Maruti', 'Skoda', 'Honda', 'Hyundai', 'Toyota', 'Ford', 'Renault',\n",
    "       'Mahindra', 'Tata', 'Chevrolet', 'Datsun', 'Jeep', 'Mercedes-Benz',\n",
    "       'Mitsubishi', 'Audi', 'Volkswagen', 'BMW', 'Nissan', 'Lexus',\n",
    "       'Jaguar', 'Land', 'MG', 'Volvo', 'Daewoo', 'Kia', 'Fiat', 'Force',\n",
    "       'Ambassador', 'Ashok', 'Isuzu', 'Opel'],[1,2,3,4,5,6,7,8,9,10,11,12,13,14,15,16,17,18,19,20,21,22,23,24,25,26,27,28,29,30,31], inplace= True)"
   ]
  },
  {
   "cell_type": "code",
   "execution_count": 26,
   "id": "49a40245-916f-4784-a3e5-3a3ba0b39cb1",
   "metadata": {},
   "outputs": [
    {
     "data": {
      "text/plain": [
       "array(['Manual', 'Automatic'], dtype=object)"
      ]
     },
     "execution_count": 26,
     "metadata": {},
     "output_type": "execute_result"
    }
   ],
   "source": [
    "car_data['transmission'].unique()"
   ]
  },
  {
   "cell_type": "code",
   "execution_count": 27,
   "id": "ba71e44b-a633-4564-939d-a43b7490d790",
   "metadata": {},
   "outputs": [],
   "source": [
    "car_data['transmission'].replace(['Manual','Automatic'],[1,2],inplace=True)"
   ]
  },
  {
   "cell_type": "code",
   "execution_count": 28,
   "id": "34fa3c38",
   "metadata": {},
   "outputs": [
    {
     "data": {
      "text/plain": [
       "0                First Owner\n",
       "1               Second Owner\n",
       "2                Third Owner\n",
       "3                First Owner\n",
       "4                First Owner\n",
       "                ...         \n",
       "8121            Second Owner\n",
       "8122            Second Owner\n",
       "8123             First Owner\n",
       "8124    Fourth & Above Owner\n",
       "8125             First Owner\n",
       "Name: owner, Length: 6718, dtype: object"
      ]
     },
     "execution_count": 28,
     "metadata": {},
     "output_type": "execute_result"
    }
   ],
   "source": [
    "car_data['owner']"
   ]
  },
  {
   "cell_type": "code",
   "execution_count": 29,
   "id": "ba621c9f-8411-47ed-898d-1192c4dc0bce",
   "metadata": {},
   "outputs": [
    {
     "data": {
      "text/plain": [
       "array(['Individual', 'Dealer', 'Trustmark Dealer'], dtype=object)"
      ]
     },
     "execution_count": 29,
     "metadata": {},
     "output_type": "execute_result"
    }
   ],
   "source": [
    "car_data['seller_type'].unique()"
   ]
  },
  {
   "cell_type": "code",
   "execution_count": 30,
   "id": "e6800627-db7a-4cf3-a788-a81e0c32e48b",
   "metadata": {},
   "outputs": [],
   "source": [
    "car_data['seller_type'].replace(['Individual', 'Dealer', 'Trustmark Dealer'],[1,2,3],inplace=True)"
   ]
  },
  {
   "cell_type": "code",
   "execution_count": 31,
   "id": "97ee517b-27d2-4576-a9b1-a0f3d338699a",
   "metadata": {},
   "outputs": [
    {
     "name": "stdout",
     "output_type": "stream",
     "text": [
      "<class 'pandas.core.frame.DataFrame'>\n",
      "Index: 6718 entries, 0 to 8125\n",
      "Data columns (total 12 columns):\n",
      " #   Column         Non-Null Count  Dtype  \n",
      "---  ------         --------------  -----  \n",
      " 0   name           6718 non-null   int64  \n",
      " 1   year           6718 non-null   int64  \n",
      " 2   selling_price  6718 non-null   int64  \n",
      " 3   km_driven      6718 non-null   int64  \n",
      " 4   fuel           6718 non-null   object \n",
      " 5   seller_type    6718 non-null   int64  \n",
      " 6   transmission   6718 non-null   int64  \n",
      " 7   owner          6718 non-null   object \n",
      " 8   mileage        6718 non-null   object \n",
      " 9   engine         6718 non-null   object \n",
      " 10  max_power      6718 non-null   object \n",
      " 11  seats          6718 non-null   float64\n",
      "dtypes: float64(1), int64(6), object(5)\n",
      "memory usage: 682.3+ KB\n"
     ]
    }
   ],
   "source": [
    "car_data.info()"
   ]
  },
  {
   "cell_type": "code",
   "execution_count": 32,
   "id": "36cfbefa-bd70-4b71-96e0-0495c5a43f52",
   "metadata": {},
   "outputs": [
    {
     "data": {
      "text/plain": [
       "array(['Diesel', 'Petrol', 'LPG', 'CNG'], dtype=object)"
      ]
     },
     "execution_count": 32,
     "metadata": {},
     "output_type": "execute_result"
    }
   ],
   "source": [
    "car_data['fuel'].unique()"
   ]
  },
  {
   "cell_type": "code",
   "execution_count": 33,
   "id": "ba668332-3c6e-4cbc-8a9a-8374a4592b83",
   "metadata": {},
   "outputs": [],
   "source": [
    "car_data['fuel'].replace(['Diesel', 'Petrol', 'LPG', 'CNG'],[1,2,3,4],inplace=True)"
   ]
  },
  {
   "cell_type": "code",
   "execution_count": 34,
   "id": "3324f0dc",
   "metadata": {},
   "outputs": [
    {
     "data": {
      "text/plain": [
       "array(['First Owner', 'Second Owner', 'Third Owner',\n",
       "       'Fourth & Above Owner', 'Test Drive Car'], dtype=object)"
      ]
     },
     "execution_count": 34,
     "metadata": {},
     "output_type": "execute_result"
    }
   ],
   "source": [
    "car_data['owner'].unique()"
   ]
  },
  {
   "cell_type": "code",
   "execution_count": 43,
   "id": "a015564f",
   "metadata": {},
   "outputs": [],
   "source": [
    "car_data['owner'].replace(['First Owner', 'Second Owner', 'Third Owner', 'Fourth & Above Owner','Test Drive Car'],[1,2,3,4,5],inplace=True)"
   ]
  },
  {
   "cell_type": "code",
   "execution_count": 35,
   "id": "0ff1aa9d-b2a7-43bb-89fd-7e53f615bf48",
   "metadata": {},
   "outputs": [
    {
     "name": "stdout",
     "output_type": "stream",
     "text": [
      "<class 'pandas.core.frame.DataFrame'>\n",
      "Index: 6718 entries, 0 to 8125\n",
      "Data columns (total 12 columns):\n",
      " #   Column         Non-Null Count  Dtype  \n",
      "---  ------         --------------  -----  \n",
      " 0   name           6718 non-null   int64  \n",
      " 1   year           6718 non-null   int64  \n",
      " 2   selling_price  6718 non-null   int64  \n",
      " 3   km_driven      6718 non-null   int64  \n",
      " 4   fuel           6718 non-null   int64  \n",
      " 5   seller_type    6718 non-null   int64  \n",
      " 6   transmission   6718 non-null   int64  \n",
      " 7   owner          6718 non-null   object \n",
      " 8   mileage        6718 non-null   object \n",
      " 9   engine         6718 non-null   object \n",
      " 10  max_power      6718 non-null   object \n",
      " 11  seats          6718 non-null   float64\n",
      "dtypes: float64(1), int64(7), object(4)\n",
      "memory usage: 682.3+ KB\n"
     ]
    }
   ],
   "source": [
    "car_data.info()"
   ]
  },
  {
   "cell_type": "code",
   "execution_count": 36,
   "id": "aff9bf59-7d9e-4713-ac5f-2772e9f9768a",
   "metadata": {},
   "outputs": [],
   "source": [
    "car_data.reset_index(inplace=True)"
   ]
  },
  {
   "cell_type": "code",
   "execution_count": 37,
   "id": "5af2c1fd-0fba-4826-aba7-a6572b12d751",
   "metadata": {},
   "outputs": [],
   "source": [
    "car_data['max_power'] = car_data['max_power'].str.extract('(\\d+)').astype(float)"
   ]
  },
  {
   "cell_type": "markdown",
   "id": "d9c2f9d2-9572-43eb-a997-081154af67a2",
   "metadata": {},
   "source": [
    "#### converting string to float max_power column"
   ]
  },
  {
   "cell_type": "code",
   "execution_count": 38,
   "id": "0f417832-4387-453f-8768-7d42f11d415b",
   "metadata": {},
   "outputs": [],
   "source": [
    "car_data['max_power'] = car_data['max_power'].astype(float)"
   ]
  },
  {
   "cell_type": "code",
   "execution_count": null,
   "id": "50fe4773",
   "metadata": {},
   "outputs": [],
   "source": [
    "car_data['owner'] = car_data['owner'].astype(float)"
   ]
  },
  {
   "cell_type": "code",
   "execution_count": 39,
   "id": "beb3bf45-3094-482f-9242-3231dc806426",
   "metadata": {},
   "outputs": [
    {
     "data": {
      "text/html": [
       "<div>\n",
       "<style scoped>\n",
       "    .dataframe tbody tr th:only-of-type {\n",
       "        vertical-align: middle;\n",
       "    }\n",
       "\n",
       "    .dataframe tbody tr th {\n",
       "        vertical-align: top;\n",
       "    }\n",
       "\n",
       "    .dataframe thead th {\n",
       "        text-align: right;\n",
       "    }\n",
       "</style>\n",
       "<table border=\"1\" class=\"dataframe\">\n",
       "  <thead>\n",
       "    <tr style=\"text-align: right;\">\n",
       "      <th></th>\n",
       "      <th>index</th>\n",
       "      <th>name</th>\n",
       "      <th>year</th>\n",
       "      <th>selling_price</th>\n",
       "      <th>km_driven</th>\n",
       "      <th>fuel</th>\n",
       "      <th>seller_type</th>\n",
       "      <th>transmission</th>\n",
       "      <th>owner</th>\n",
       "      <th>mileage</th>\n",
       "      <th>engine</th>\n",
       "      <th>max_power</th>\n",
       "      <th>seats</th>\n",
       "    </tr>\n",
       "  </thead>\n",
       "  <tbody>\n",
       "    <tr>\n",
       "      <th>0</th>\n",
       "      <td>0</td>\n",
       "      <td>1</td>\n",
       "      <td>2014</td>\n",
       "      <td>450000</td>\n",
       "      <td>145500</td>\n",
       "      <td>1</td>\n",
       "      <td>1</td>\n",
       "      <td>1</td>\n",
       "      <td>First Owner</td>\n",
       "      <td>23.4</td>\n",
       "      <td>1248</td>\n",
       "      <td>74.0</td>\n",
       "      <td>5.0</td>\n",
       "    </tr>\n",
       "    <tr>\n",
       "      <th>1</th>\n",
       "      <td>1</td>\n",
       "      <td>2</td>\n",
       "      <td>2014</td>\n",
       "      <td>370000</td>\n",
       "      <td>120000</td>\n",
       "      <td>1</td>\n",
       "      <td>1</td>\n",
       "      <td>1</td>\n",
       "      <td>Second Owner</td>\n",
       "      <td>21.14</td>\n",
       "      <td>1498</td>\n",
       "      <td>103.0</td>\n",
       "      <td>5.0</td>\n",
       "    </tr>\n",
       "    <tr>\n",
       "      <th>2</th>\n",
       "      <td>2</td>\n",
       "      <td>3</td>\n",
       "      <td>2006</td>\n",
       "      <td>158000</td>\n",
       "      <td>140000</td>\n",
       "      <td>2</td>\n",
       "      <td>1</td>\n",
       "      <td>1</td>\n",
       "      <td>Third Owner</td>\n",
       "      <td>17.7</td>\n",
       "      <td>1497</td>\n",
       "      <td>78.0</td>\n",
       "      <td>5.0</td>\n",
       "    </tr>\n",
       "    <tr>\n",
       "      <th>3</th>\n",
       "      <td>3</td>\n",
       "      <td>4</td>\n",
       "      <td>2010</td>\n",
       "      <td>225000</td>\n",
       "      <td>127000</td>\n",
       "      <td>1</td>\n",
       "      <td>1</td>\n",
       "      <td>1</td>\n",
       "      <td>First Owner</td>\n",
       "      <td>23.0</td>\n",
       "      <td>1396</td>\n",
       "      <td>90.0</td>\n",
       "      <td>5.0</td>\n",
       "    </tr>\n",
       "    <tr>\n",
       "      <th>4</th>\n",
       "      <td>4</td>\n",
       "      <td>1</td>\n",
       "      <td>2007</td>\n",
       "      <td>130000</td>\n",
       "      <td>120000</td>\n",
       "      <td>2</td>\n",
       "      <td>1</td>\n",
       "      <td>1</td>\n",
       "      <td>First Owner</td>\n",
       "      <td>16.1</td>\n",
       "      <td>1298</td>\n",
       "      <td>88.0</td>\n",
       "      <td>5.0</td>\n",
       "    </tr>\n",
       "    <tr>\n",
       "      <th>...</th>\n",
       "      <td>...</td>\n",
       "      <td>...</td>\n",
       "      <td>...</td>\n",
       "      <td>...</td>\n",
       "      <td>...</td>\n",
       "      <td>...</td>\n",
       "      <td>...</td>\n",
       "      <td>...</td>\n",
       "      <td>...</td>\n",
       "      <td>...</td>\n",
       "      <td>...</td>\n",
       "      <td>...</td>\n",
       "      <td>...</td>\n",
       "    </tr>\n",
       "    <tr>\n",
       "      <th>6713</th>\n",
       "      <td>8121</td>\n",
       "      <td>1</td>\n",
       "      <td>2013</td>\n",
       "      <td>260000</td>\n",
       "      <td>50000</td>\n",
       "      <td>2</td>\n",
       "      <td>1</td>\n",
       "      <td>1</td>\n",
       "      <td>Second Owner</td>\n",
       "      <td>18.9</td>\n",
       "      <td>998</td>\n",
       "      <td>67.0</td>\n",
       "      <td>5.0</td>\n",
       "    </tr>\n",
       "    <tr>\n",
       "      <th>6714</th>\n",
       "      <td>8122</td>\n",
       "      <td>4</td>\n",
       "      <td>2014</td>\n",
       "      <td>475000</td>\n",
       "      <td>80000</td>\n",
       "      <td>1</td>\n",
       "      <td>1</td>\n",
       "      <td>1</td>\n",
       "      <td>Second Owner</td>\n",
       "      <td>22.54</td>\n",
       "      <td>1396</td>\n",
       "      <td>88.0</td>\n",
       "      <td>5.0</td>\n",
       "    </tr>\n",
       "    <tr>\n",
       "      <th>6715</th>\n",
       "      <td>8123</td>\n",
       "      <td>4</td>\n",
       "      <td>2013</td>\n",
       "      <td>320000</td>\n",
       "      <td>110000</td>\n",
       "      <td>2</td>\n",
       "      <td>1</td>\n",
       "      <td>1</td>\n",
       "      <td>First Owner</td>\n",
       "      <td>18.5</td>\n",
       "      <td>1197</td>\n",
       "      <td>82.0</td>\n",
       "      <td>5.0</td>\n",
       "    </tr>\n",
       "    <tr>\n",
       "      <th>6716</th>\n",
       "      <td>8124</td>\n",
       "      <td>4</td>\n",
       "      <td>2007</td>\n",
       "      <td>135000</td>\n",
       "      <td>119000</td>\n",
       "      <td>1</td>\n",
       "      <td>1</td>\n",
       "      <td>1</td>\n",
       "      <td>Fourth &amp; Above Owner</td>\n",
       "      <td>16.8</td>\n",
       "      <td>1493</td>\n",
       "      <td>110.0</td>\n",
       "      <td>5.0</td>\n",
       "    </tr>\n",
       "    <tr>\n",
       "      <th>6717</th>\n",
       "      <td>8125</td>\n",
       "      <td>1</td>\n",
       "      <td>2009</td>\n",
       "      <td>382000</td>\n",
       "      <td>120000</td>\n",
       "      <td>1</td>\n",
       "      <td>1</td>\n",
       "      <td>1</td>\n",
       "      <td>First Owner</td>\n",
       "      <td>19.3</td>\n",
       "      <td>1248</td>\n",
       "      <td>73.0</td>\n",
       "      <td>5.0</td>\n",
       "    </tr>\n",
       "  </tbody>\n",
       "</table>\n",
       "<p>6718 rows × 13 columns</p>\n",
       "</div>"
      ],
      "text/plain": [
       "      index  name  year  selling_price  km_driven  fuel  seller_type  \\\n",
       "0         0     1  2014         450000     145500     1            1   \n",
       "1         1     2  2014         370000     120000     1            1   \n",
       "2         2     3  2006         158000     140000     2            1   \n",
       "3         3     4  2010         225000     127000     1            1   \n",
       "4         4     1  2007         130000     120000     2            1   \n",
       "...     ...   ...   ...            ...        ...   ...          ...   \n",
       "6713   8121     1  2013         260000      50000     2            1   \n",
       "6714   8122     4  2014         475000      80000     1            1   \n",
       "6715   8123     4  2013         320000     110000     2            1   \n",
       "6716   8124     4  2007         135000     119000     1            1   \n",
       "6717   8125     1  2009         382000     120000     1            1   \n",
       "\n",
       "      transmission                 owner mileage engine  max_power  seats  \n",
       "0                1           First Owner    23.4   1248       74.0    5.0  \n",
       "1                1          Second Owner   21.14   1498      103.0    5.0  \n",
       "2                1           Third Owner    17.7   1497       78.0    5.0  \n",
       "3                1           First Owner    23.0   1396       90.0    5.0  \n",
       "4                1           First Owner    16.1   1298       88.0    5.0  \n",
       "...            ...                   ...     ...    ...        ...    ...  \n",
       "6713             1          Second Owner    18.9    998       67.0    5.0  \n",
       "6714             1          Second Owner   22.54   1396       88.0    5.0  \n",
       "6715             1           First Owner    18.5   1197       82.0    5.0  \n",
       "6716             1  Fourth & Above Owner    16.8   1493      110.0    5.0  \n",
       "6717             1           First Owner    19.3   1248       73.0    5.0  \n",
       "\n",
       "[6718 rows x 13 columns]"
      ]
     },
     "execution_count": 39,
     "metadata": {},
     "output_type": "execute_result"
    }
   ],
   "source": [
    "car_data\n"
   ]
  },
  {
   "cell_type": "code",
   "execution_count": 40,
   "id": "4cbd9c85-b33b-4bad-80dd-e273b3109bec",
   "metadata": {},
   "outputs": [],
   "source": [
    "car_data.drop(columns=['index'],inplace=True)"
   ]
  },
  {
   "cell_type": "code",
   "execution_count": 41,
   "id": "26cf3b06-88d5-4e50-9d98-ebc654bdc0a8",
   "metadata": {},
   "outputs": [
    {
     "ename": "KeyError",
     "evalue": "\"['level_0'] not found in axis\"",
     "output_type": "error",
     "traceback": [
      "\u001b[1;31m---------------------------------------------------------------------------\u001b[0m",
      "\u001b[1;31mKeyError\u001b[0m                                  Traceback (most recent call last)",
      "Cell \u001b[1;32mIn[41], line 1\u001b[0m\n\u001b[1;32m----> 1\u001b[0m car_data\u001b[38;5;241m.\u001b[39mdrop(columns\u001b[38;5;241m=\u001b[39m[\u001b[38;5;124m'\u001b[39m\u001b[38;5;124mlevel_0\u001b[39m\u001b[38;5;124m'\u001b[39m],inplace\u001b[38;5;241m=\u001b[39m\u001b[38;5;28;01mTrue\u001b[39;00m)\n",
      "File \u001b[1;32mc:\\Users\\Admin\\anaconda3\\Lib\\site-packages\\pandas\\core\\frame.py:5344\u001b[0m, in \u001b[0;36mDataFrame.drop\u001b[1;34m(self, labels, axis, index, columns, level, inplace, errors)\u001b[0m\n\u001b[0;32m   5196\u001b[0m \u001b[38;5;28;01mdef\u001b[39;00m \u001b[38;5;21mdrop\u001b[39m(\n\u001b[0;32m   5197\u001b[0m     \u001b[38;5;28mself\u001b[39m,\n\u001b[0;32m   5198\u001b[0m     labels: IndexLabel \u001b[38;5;241m|\u001b[39m \u001b[38;5;28;01mNone\u001b[39;00m \u001b[38;5;241m=\u001b[39m \u001b[38;5;28;01mNone\u001b[39;00m,\n\u001b[1;32m   (...)\u001b[0m\n\u001b[0;32m   5205\u001b[0m     errors: IgnoreRaise \u001b[38;5;241m=\u001b[39m \u001b[38;5;124m\"\u001b[39m\u001b[38;5;124mraise\u001b[39m\u001b[38;5;124m\"\u001b[39m,\n\u001b[0;32m   5206\u001b[0m ) \u001b[38;5;241m-\u001b[39m\u001b[38;5;241m>\u001b[39m DataFrame \u001b[38;5;241m|\u001b[39m \u001b[38;5;28;01mNone\u001b[39;00m:\n\u001b[0;32m   5207\u001b[0m \u001b[38;5;250m    \u001b[39m\u001b[38;5;124;03m\"\"\"\u001b[39;00m\n\u001b[0;32m   5208\u001b[0m \u001b[38;5;124;03m    Drop specified labels from rows or columns.\u001b[39;00m\n\u001b[0;32m   5209\u001b[0m \n\u001b[1;32m   (...)\u001b[0m\n\u001b[0;32m   5342\u001b[0m \u001b[38;5;124;03m            weight  1.0     0.8\u001b[39;00m\n\u001b[0;32m   5343\u001b[0m \u001b[38;5;124;03m    \"\"\"\u001b[39;00m\n\u001b[1;32m-> 5344\u001b[0m     \u001b[38;5;28;01mreturn\u001b[39;00m \u001b[38;5;28msuper\u001b[39m()\u001b[38;5;241m.\u001b[39mdrop(\n\u001b[0;32m   5345\u001b[0m         labels\u001b[38;5;241m=\u001b[39mlabels,\n\u001b[0;32m   5346\u001b[0m         axis\u001b[38;5;241m=\u001b[39maxis,\n\u001b[0;32m   5347\u001b[0m         index\u001b[38;5;241m=\u001b[39mindex,\n\u001b[0;32m   5348\u001b[0m         columns\u001b[38;5;241m=\u001b[39mcolumns,\n\u001b[0;32m   5349\u001b[0m         level\u001b[38;5;241m=\u001b[39mlevel,\n\u001b[0;32m   5350\u001b[0m         inplace\u001b[38;5;241m=\u001b[39minplace,\n\u001b[0;32m   5351\u001b[0m         errors\u001b[38;5;241m=\u001b[39merrors,\n\u001b[0;32m   5352\u001b[0m     )\n",
      "File \u001b[1;32mc:\\Users\\Admin\\anaconda3\\Lib\\site-packages\\pandas\\core\\generic.py:4711\u001b[0m, in \u001b[0;36mNDFrame.drop\u001b[1;34m(self, labels, axis, index, columns, level, inplace, errors)\u001b[0m\n\u001b[0;32m   4709\u001b[0m \u001b[38;5;28;01mfor\u001b[39;00m axis, labels \u001b[38;5;129;01min\u001b[39;00m axes\u001b[38;5;241m.\u001b[39mitems():\n\u001b[0;32m   4710\u001b[0m     \u001b[38;5;28;01mif\u001b[39;00m labels \u001b[38;5;129;01mis\u001b[39;00m \u001b[38;5;129;01mnot\u001b[39;00m \u001b[38;5;28;01mNone\u001b[39;00m:\n\u001b[1;32m-> 4711\u001b[0m         obj \u001b[38;5;241m=\u001b[39m obj\u001b[38;5;241m.\u001b[39m_drop_axis(labels, axis, level\u001b[38;5;241m=\u001b[39mlevel, errors\u001b[38;5;241m=\u001b[39merrors)\n\u001b[0;32m   4713\u001b[0m \u001b[38;5;28;01mif\u001b[39;00m inplace:\n\u001b[0;32m   4714\u001b[0m     \u001b[38;5;28mself\u001b[39m\u001b[38;5;241m.\u001b[39m_update_inplace(obj)\n",
      "File \u001b[1;32mc:\\Users\\Admin\\anaconda3\\Lib\\site-packages\\pandas\\core\\generic.py:4753\u001b[0m, in \u001b[0;36mNDFrame._drop_axis\u001b[1;34m(self, labels, axis, level, errors, only_slice)\u001b[0m\n\u001b[0;32m   4751\u001b[0m         new_axis \u001b[38;5;241m=\u001b[39m axis\u001b[38;5;241m.\u001b[39mdrop(labels, level\u001b[38;5;241m=\u001b[39mlevel, errors\u001b[38;5;241m=\u001b[39merrors)\n\u001b[0;32m   4752\u001b[0m     \u001b[38;5;28;01melse\u001b[39;00m:\n\u001b[1;32m-> 4753\u001b[0m         new_axis \u001b[38;5;241m=\u001b[39m axis\u001b[38;5;241m.\u001b[39mdrop(labels, errors\u001b[38;5;241m=\u001b[39merrors)\n\u001b[0;32m   4754\u001b[0m     indexer \u001b[38;5;241m=\u001b[39m axis\u001b[38;5;241m.\u001b[39mget_indexer(new_axis)\n\u001b[0;32m   4756\u001b[0m \u001b[38;5;66;03m# Case for non-unique axis\u001b[39;00m\n\u001b[0;32m   4757\u001b[0m \u001b[38;5;28;01melse\u001b[39;00m:\n",
      "File \u001b[1;32mc:\\Users\\Admin\\anaconda3\\Lib\\site-packages\\pandas\\core\\indexes\\base.py:7000\u001b[0m, in \u001b[0;36mIndex.drop\u001b[1;34m(self, labels, errors)\u001b[0m\n\u001b[0;32m   6998\u001b[0m \u001b[38;5;28;01mif\u001b[39;00m mask\u001b[38;5;241m.\u001b[39many():\n\u001b[0;32m   6999\u001b[0m     \u001b[38;5;28;01mif\u001b[39;00m errors \u001b[38;5;241m!=\u001b[39m \u001b[38;5;124m\"\u001b[39m\u001b[38;5;124mignore\u001b[39m\u001b[38;5;124m\"\u001b[39m:\n\u001b[1;32m-> 7000\u001b[0m         \u001b[38;5;28;01mraise\u001b[39;00m \u001b[38;5;167;01mKeyError\u001b[39;00m(\u001b[38;5;124mf\u001b[39m\u001b[38;5;124m\"\u001b[39m\u001b[38;5;132;01m{\u001b[39;00mlabels[mask]\u001b[38;5;241m.\u001b[39mtolist()\u001b[38;5;132;01m}\u001b[39;00m\u001b[38;5;124m not found in axis\u001b[39m\u001b[38;5;124m\"\u001b[39m)\n\u001b[0;32m   7001\u001b[0m     indexer \u001b[38;5;241m=\u001b[39m indexer[\u001b[38;5;241m~\u001b[39mmask]\n\u001b[0;32m   7002\u001b[0m \u001b[38;5;28;01mreturn\u001b[39;00m \u001b[38;5;28mself\u001b[39m\u001b[38;5;241m.\u001b[39mdelete(indexer)\n",
      "\u001b[1;31mKeyError\u001b[0m: \"['level_0'] not found in axis\""
     ]
    }
   ],
   "source": [
    "car_data.drop(columns=['level_0'],inplace=True)"
   ]
  },
  {
   "cell_type": "code",
   "execution_count": 154,
   "id": "8777224a-d476-44d6-a505-391efc4c9dd9",
   "metadata": {},
   "outputs": [
    {
     "data": {
      "text/html": [
       "<div>\n",
       "<style scoped>\n",
       "    .dataframe tbody tr th:only-of-type {\n",
       "        vertical-align: middle;\n",
       "    }\n",
       "\n",
       "    .dataframe tbody tr th {\n",
       "        vertical-align: top;\n",
       "    }\n",
       "\n",
       "    .dataframe thead th {\n",
       "        text-align: right;\n",
       "    }\n",
       "</style>\n",
       "<table border=\"1\" class=\"dataframe\">\n",
       "  <thead>\n",
       "    <tr style=\"text-align: right;\">\n",
       "      <th></th>\n",
       "      <th>name</th>\n",
       "      <th>year</th>\n",
       "      <th>selling_price</th>\n",
       "      <th>km_driven</th>\n",
       "      <th>fuel</th>\n",
       "      <th>seller_type</th>\n",
       "      <th>transmission</th>\n",
       "      <th>owner</th>\n",
       "      <th>mileage</th>\n",
       "      <th>engine</th>\n",
       "      <th>max_power</th>\n",
       "      <th>seats</th>\n",
       "    </tr>\n",
       "  </thead>\n",
       "  <tbody>\n",
       "    <tr>\n",
       "      <th>0</th>\n",
       "      <td>1</td>\n",
       "      <td>2014</td>\n",
       "      <td>450000</td>\n",
       "      <td>145500</td>\n",
       "      <td>1</td>\n",
       "      <td>1</td>\n",
       "      <td>1</td>\n",
       "      <td>1</td>\n",
       "      <td>23.4</td>\n",
       "      <td>1248</td>\n",
       "      <td>74.0</td>\n",
       "      <td>5.0</td>\n",
       "    </tr>\n",
       "    <tr>\n",
       "      <th>1</th>\n",
       "      <td>2</td>\n",
       "      <td>2014</td>\n",
       "      <td>370000</td>\n",
       "      <td>120000</td>\n",
       "      <td>1</td>\n",
       "      <td>1</td>\n",
       "      <td>1</td>\n",
       "      <td>2</td>\n",
       "      <td>21.14</td>\n",
       "      <td>1498</td>\n",
       "      <td>103.0</td>\n",
       "      <td>5.0</td>\n",
       "    </tr>\n",
       "    <tr>\n",
       "      <th>2</th>\n",
       "      <td>3</td>\n",
       "      <td>2006</td>\n",
       "      <td>158000</td>\n",
       "      <td>140000</td>\n",
       "      <td>2</td>\n",
       "      <td>1</td>\n",
       "      <td>1</td>\n",
       "      <td>3</td>\n",
       "      <td>17.7</td>\n",
       "      <td>1497</td>\n",
       "      <td>78.0</td>\n",
       "      <td>5.0</td>\n",
       "    </tr>\n",
       "    <tr>\n",
       "      <th>3</th>\n",
       "      <td>4</td>\n",
       "      <td>2010</td>\n",
       "      <td>225000</td>\n",
       "      <td>127000</td>\n",
       "      <td>1</td>\n",
       "      <td>1</td>\n",
       "      <td>1</td>\n",
       "      <td>1</td>\n",
       "      <td>23.0</td>\n",
       "      <td>1396</td>\n",
       "      <td>90.0</td>\n",
       "      <td>5.0</td>\n",
       "    </tr>\n",
       "    <tr>\n",
       "      <th>4</th>\n",
       "      <td>1</td>\n",
       "      <td>2007</td>\n",
       "      <td>130000</td>\n",
       "      <td>120000</td>\n",
       "      <td>2</td>\n",
       "      <td>1</td>\n",
       "      <td>1</td>\n",
       "      <td>1</td>\n",
       "      <td>16.1</td>\n",
       "      <td>1298</td>\n",
       "      <td>88.0</td>\n",
       "      <td>5.0</td>\n",
       "    </tr>\n",
       "    <tr>\n",
       "      <th>...</th>\n",
       "      <td>...</td>\n",
       "      <td>...</td>\n",
       "      <td>...</td>\n",
       "      <td>...</td>\n",
       "      <td>...</td>\n",
       "      <td>...</td>\n",
       "      <td>...</td>\n",
       "      <td>...</td>\n",
       "      <td>...</td>\n",
       "      <td>...</td>\n",
       "      <td>...</td>\n",
       "      <td>...</td>\n",
       "    </tr>\n",
       "    <tr>\n",
       "      <th>6713</th>\n",
       "      <td>1</td>\n",
       "      <td>2013</td>\n",
       "      <td>260000</td>\n",
       "      <td>50000</td>\n",
       "      <td>2</td>\n",
       "      <td>1</td>\n",
       "      <td>1</td>\n",
       "      <td>2</td>\n",
       "      <td>18.9</td>\n",
       "      <td>998</td>\n",
       "      <td>67.0</td>\n",
       "      <td>5.0</td>\n",
       "    </tr>\n",
       "    <tr>\n",
       "      <th>6714</th>\n",
       "      <td>4</td>\n",
       "      <td>2014</td>\n",
       "      <td>475000</td>\n",
       "      <td>80000</td>\n",
       "      <td>1</td>\n",
       "      <td>1</td>\n",
       "      <td>1</td>\n",
       "      <td>2</td>\n",
       "      <td>22.54</td>\n",
       "      <td>1396</td>\n",
       "      <td>88.0</td>\n",
       "      <td>5.0</td>\n",
       "    </tr>\n",
       "    <tr>\n",
       "      <th>6715</th>\n",
       "      <td>4</td>\n",
       "      <td>2013</td>\n",
       "      <td>320000</td>\n",
       "      <td>110000</td>\n",
       "      <td>2</td>\n",
       "      <td>1</td>\n",
       "      <td>1</td>\n",
       "      <td>1</td>\n",
       "      <td>18.5</td>\n",
       "      <td>1197</td>\n",
       "      <td>82.0</td>\n",
       "      <td>5.0</td>\n",
       "    </tr>\n",
       "    <tr>\n",
       "      <th>6716</th>\n",
       "      <td>4</td>\n",
       "      <td>2007</td>\n",
       "      <td>135000</td>\n",
       "      <td>119000</td>\n",
       "      <td>1</td>\n",
       "      <td>1</td>\n",
       "      <td>1</td>\n",
       "      <td>4</td>\n",
       "      <td>16.8</td>\n",
       "      <td>1493</td>\n",
       "      <td>110.0</td>\n",
       "      <td>5.0</td>\n",
       "    </tr>\n",
       "    <tr>\n",
       "      <th>6717</th>\n",
       "      <td>1</td>\n",
       "      <td>2009</td>\n",
       "      <td>382000</td>\n",
       "      <td>120000</td>\n",
       "      <td>1</td>\n",
       "      <td>1</td>\n",
       "      <td>1</td>\n",
       "      <td>1</td>\n",
       "      <td>19.3</td>\n",
       "      <td>1248</td>\n",
       "      <td>73.0</td>\n",
       "      <td>5.0</td>\n",
       "    </tr>\n",
       "  </tbody>\n",
       "</table>\n",
       "<p>6718 rows × 12 columns</p>\n",
       "</div>"
      ],
      "text/plain": [
       "      name  year  selling_price  km_driven  fuel  seller_type  transmission  \\\n",
       "0        1  2014         450000     145500     1            1             1   \n",
       "1        2  2014         370000     120000     1            1             1   \n",
       "2        3  2006         158000     140000     2            1             1   \n",
       "3        4  2010         225000     127000     1            1             1   \n",
       "4        1  2007         130000     120000     2            1             1   \n",
       "...    ...   ...            ...        ...   ...          ...           ...   \n",
       "6713     1  2013         260000      50000     2            1             1   \n",
       "6714     4  2014         475000      80000     1            1             1   \n",
       "6715     4  2013         320000     110000     2            1             1   \n",
       "6716     4  2007         135000     119000     1            1             1   \n",
       "6717     1  2009         382000     120000     1            1             1   \n",
       "\n",
       "      owner mileage engine  max_power  seats  \n",
       "0         1    23.4   1248       74.0    5.0  \n",
       "1         2   21.14   1498      103.0    5.0  \n",
       "2         3    17.7   1497       78.0    5.0  \n",
       "3         1    23.0   1396       90.0    5.0  \n",
       "4         1    16.1   1298       88.0    5.0  \n",
       "...     ...     ...    ...        ...    ...  \n",
       "6713      2    18.9    998       67.0    5.0  \n",
       "6714      2   22.54   1396       88.0    5.0  \n",
       "6715      1    18.5   1197       82.0    5.0  \n",
       "6716      4    16.8   1493      110.0    5.0  \n",
       "6717      1    19.3   1248       73.0    5.0  \n",
       "\n",
       "[6718 rows x 12 columns]"
      ]
     },
     "execution_count": 154,
     "metadata": {},
     "output_type": "execute_result"
    }
   ],
   "source": [
    "car_data"
   ]
  },
  {
   "cell_type": "code",
   "execution_count": 156,
   "id": "0ec2c43c-b4f9-493d-acb5-381b118d510e",
   "metadata": {},
   "outputs": [],
   "source": [
    "input_data=car_data.drop(columns=['selling_price']) #drop selling price\n",
    "output_data=car_data['selling_price'] #assigning selling price to output_data"
   ]
  },
  {
   "cell_type": "code",
   "execution_count": 165,
   "id": "65871547-88bd-4f08-b48b-f2db01ebe1b4",
   "metadata": {},
   "outputs": [],
   "source": [
    "x_train,x_shape,y_train,y_shape=train_test_split(input_data,output_data,test_size=0.2) #replaced test by shape ie x_shape"
   ]
  },
  {
   "cell_type": "markdown",
   "id": "8e54fbb3-5c7e-4de8-98a0-eeaa073a08a6",
   "metadata": {},
   "source": [
    "#### Model Creation"
   ]
  },
  {
   "cell_type": "code",
   "execution_count": 167,
   "id": "717b5beb-caca-436a-9397-c8dba952f218",
   "metadata": {},
   "outputs": [],
   "source": [
    "model=LinearRegression()"
   ]
  },
  {
   "cell_type": "code",
   "execution_count": null,
   "id": "d69af11e-f2bf-417c-b75e-18182365da61",
   "metadata": {},
   "outputs": [],
   "source": []
  },
  {
   "cell_type": "code",
   "execution_count": 173,
   "id": "d3828081-ab37-4828-9ce0-40920b21b5a5",
   "metadata": {},
   "outputs": [
    {
     "data": {
      "text/html": [
       "<style>#sk-container-id-3 {color: black;background-color: white;}#sk-container-id-3 pre{padding: 0;}#sk-container-id-3 div.sk-toggleable {background-color: white;}#sk-container-id-3 label.sk-toggleable__label {cursor: pointer;display: block;width: 100%;margin-bottom: 0;padding: 0.3em;box-sizing: border-box;text-align: center;}#sk-container-id-3 label.sk-toggleable__label-arrow:before {content: \"▸\";float: left;margin-right: 0.25em;color: #696969;}#sk-container-id-3 label.sk-toggleable__label-arrow:hover:before {color: black;}#sk-container-id-3 div.sk-estimator:hover label.sk-toggleable__label-arrow:before {color: black;}#sk-container-id-3 div.sk-toggleable__content {max-height: 0;max-width: 0;overflow: hidden;text-align: left;background-color: #f0f8ff;}#sk-container-id-3 div.sk-toggleable__content pre {margin: 0.2em;color: black;border-radius: 0.25em;background-color: #f0f8ff;}#sk-container-id-3 input.sk-toggleable__control:checked~div.sk-toggleable__content {max-height: 200px;max-width: 100%;overflow: auto;}#sk-container-id-3 input.sk-toggleable__control:checked~label.sk-toggleable__label-arrow:before {content: \"▾\";}#sk-container-id-3 div.sk-estimator input.sk-toggleable__control:checked~label.sk-toggleable__label {background-color: #d4ebff;}#sk-container-id-3 div.sk-label input.sk-toggleable__control:checked~label.sk-toggleable__label {background-color: #d4ebff;}#sk-container-id-3 input.sk-hidden--visually {border: 0;clip: rect(1px 1px 1px 1px);clip: rect(1px, 1px, 1px, 1px);height: 1px;margin: -1px;overflow: hidden;padding: 0;position: absolute;width: 1px;}#sk-container-id-3 div.sk-estimator {font-family: monospace;background-color: #f0f8ff;border: 1px dotted black;border-radius: 0.25em;box-sizing: border-box;margin-bottom: 0.5em;}#sk-container-id-3 div.sk-estimator:hover {background-color: #d4ebff;}#sk-container-id-3 div.sk-parallel-item::after {content: \"\";width: 100%;border-bottom: 1px solid gray;flex-grow: 1;}#sk-container-id-3 div.sk-label:hover label.sk-toggleable__label {background-color: #d4ebff;}#sk-container-id-3 div.sk-serial::before {content: \"\";position: absolute;border-left: 1px solid gray;box-sizing: border-box;top: 0;bottom: 0;left: 50%;z-index: 0;}#sk-container-id-3 div.sk-serial {display: flex;flex-direction: column;align-items: center;background-color: white;padding-right: 0.2em;padding-left: 0.2em;position: relative;}#sk-container-id-3 div.sk-item {position: relative;z-index: 1;}#sk-container-id-3 div.sk-parallel {display: flex;align-items: stretch;justify-content: center;background-color: white;position: relative;}#sk-container-id-3 div.sk-item::before, #sk-container-id-3 div.sk-parallel-item::before {content: \"\";position: absolute;border-left: 1px solid gray;box-sizing: border-box;top: 0;bottom: 0;left: 50%;z-index: -1;}#sk-container-id-3 div.sk-parallel-item {display: flex;flex-direction: column;z-index: 1;position: relative;background-color: white;}#sk-container-id-3 div.sk-parallel-item:first-child::after {align-self: flex-end;width: 50%;}#sk-container-id-3 div.sk-parallel-item:last-child::after {align-self: flex-start;width: 50%;}#sk-container-id-3 div.sk-parallel-item:only-child::after {width: 0;}#sk-container-id-3 div.sk-dashed-wrapped {border: 1px dashed gray;margin: 0 0.4em 0.5em 0.4em;box-sizing: border-box;padding-bottom: 0.4em;background-color: white;}#sk-container-id-3 div.sk-label label {font-family: monospace;font-weight: bold;display: inline-block;line-height: 1.2em;}#sk-container-id-3 div.sk-label-container {text-align: center;}#sk-container-id-3 div.sk-container {/* jupyter's `normalize.less` sets `[hidden] { display: none; }` but bootstrap.min.css set `[hidden] { display: none !important; }` so we also need the `!important` here to be able to override the default hidden behavior on the sphinx rendered scikit-learn.org. See: https://github.com/scikit-learn/scikit-learn/issues/21755 */display: inline-block !important;position: relative;}#sk-container-id-3 div.sk-text-repr-fallback {display: none;}</style><div id=\"sk-container-id-3\" class=\"sk-top-container\"><div class=\"sk-text-repr-fallback\"><pre>LinearRegression()</pre><b>In a Jupyter environment, please rerun this cell to show the HTML representation or trust the notebook. <br />On GitHub, the HTML representation is unable to render, please try loading this page with nbviewer.org.</b></div><div class=\"sk-container\" hidden><div class=\"sk-item\"><div class=\"sk-estimator sk-toggleable\"><input class=\"sk-toggleable__control sk-hidden--visually\" id=\"sk-estimator-id-3\" type=\"checkbox\" checked><label for=\"sk-estimator-id-3\" class=\"sk-toggleable__label sk-toggleable__label-arrow\">LinearRegression</label><div class=\"sk-toggleable__content\"><pre>LinearRegression()</pre></div></div></div></div></div>"
      ],
      "text/plain": [
       "LinearRegression()"
      ]
     },
     "execution_count": 173,
     "metadata": {},
     "output_type": "execute_result"
    }
   ],
   "source": [
    "model.fit(x_train,y_train)"
   ]
  },
  {
   "cell_type": "code",
   "execution_count": 175,
   "id": "8cdc9fc2-7b0d-44b8-9ab5-a161bfc79eb2",
   "metadata": {},
   "outputs": [],
   "source": [
    "predict=model.predict(x_test)"
   ]
  },
  {
   "cell_type": "code",
   "execution_count": 177,
   "id": "f002d268-3f3c-4654-ad17-90b6e3aa7f8d",
   "metadata": {},
   "outputs": [
    {
     "data": {
      "text/plain": [
       "array([256457.04916063, 588820.87317729, 171501.02901915, ...,\n",
       "       464567.22223006, 230505.43246587, 416519.44706133])"
      ]
     },
     "execution_count": 177,
     "metadata": {},
     "output_type": "execute_result"
    }
   ],
   "source": [
    " predict"
   ]
  },
  {
   "cell_type": "code",
   "execution_count": 181,
   "id": "c3eb0532-4da8-4c7e-a6fc-452b89ad82e9",
   "metadata": {},
   "outputs": [
    {
     "data": {
      "text/html": [
       "<div>\n",
       "<style scoped>\n",
       "    .dataframe tbody tr th:only-of-type {\n",
       "        vertical-align: middle;\n",
       "    }\n",
       "\n",
       "    .dataframe tbody tr th {\n",
       "        vertical-align: top;\n",
       "    }\n",
       "\n",
       "    .dataframe thead th {\n",
       "        text-align: right;\n",
       "    }\n",
       "</style>\n",
       "<table border=\"1\" class=\"dataframe\">\n",
       "  <thead>\n",
       "    <tr style=\"text-align: right;\">\n",
       "      <th></th>\n",
       "      <th>name</th>\n",
       "      <th>year</th>\n",
       "      <th>km_driven</th>\n",
       "      <th>fuel</th>\n",
       "      <th>seller_type</th>\n",
       "      <th>transmission</th>\n",
       "      <th>owner</th>\n",
       "      <th>mileage</th>\n",
       "      <th>engine</th>\n",
       "      <th>max_power</th>\n",
       "      <th>seats</th>\n",
       "    </tr>\n",
       "  </thead>\n",
       "  <tbody>\n",
       "    <tr>\n",
       "      <th>3369</th>\n",
       "      <td>4</td>\n",
       "      <td>2009</td>\n",
       "      <td>80000</td>\n",
       "      <td>2</td>\n",
       "      <td>1</td>\n",
       "      <td>1</td>\n",
       "      <td>2</td>\n",
       "      <td>17.92</td>\n",
       "      <td>1086</td>\n",
       "      <td>62.0</td>\n",
       "      <td>5.0</td>\n",
       "    </tr>\n",
       "  </tbody>\n",
       "</table>\n",
       "</div>"
      ],
      "text/plain": [
       "      name  year  km_driven  fuel  seller_type  transmission  owner mileage  \\\n",
       "3369     4  2009      80000     2            1             1      2   17.92   \n",
       "\n",
       "     engine  max_power  seats  \n",
       "3369   1086       62.0    5.0  "
      ]
     },
     "execution_count": 181,
     "metadata": {},
     "output_type": "execute_result"
    }
   ],
   "source": [
    "x_train.head(1)"
   ]
  },
  {
   "cell_type": "code",
   "execution_count": 211,
   "id": "65933ab5-e868-4596-94dc-fc92f498130b",
   "metadata": {},
   "outputs": [],
   "source": [
    "input_data_model=pd.DataFrame(\n",
    "    [[4,2019,8000,2,1,1,2,17.92,1086,62.0,7.0]],\n",
    "    columns=['name','year','km_driven','fuel','seller_type','transmission','owner','mileage','engine','max_power','seats'])"
   ]
  },
  {
   "cell_type": "code",
   "execution_count": 213,
   "id": "18717e4e-d277-4b3c-8dfd-eac8a7311b6e",
   "metadata": {},
   "outputs": [
    {
     "data": {
      "text/html": [
       "<div>\n",
       "<style scoped>\n",
       "    .dataframe tbody tr th:only-of-type {\n",
       "        vertical-align: middle;\n",
       "    }\n",
       "\n",
       "    .dataframe tbody tr th {\n",
       "        vertical-align: top;\n",
       "    }\n",
       "\n",
       "    .dataframe thead th {\n",
       "        text-align: right;\n",
       "    }\n",
       "</style>\n",
       "<table border=\"1\" class=\"dataframe\">\n",
       "  <thead>\n",
       "    <tr style=\"text-align: right;\">\n",
       "      <th></th>\n",
       "      <th>name</th>\n",
       "      <th>year</th>\n",
       "      <th>km_driven</th>\n",
       "      <th>fuel</th>\n",
       "      <th>seller_type</th>\n",
       "      <th>transmission</th>\n",
       "      <th>owner</th>\n",
       "      <th>mileage</th>\n",
       "      <th>engine</th>\n",
       "      <th>max_power</th>\n",
       "      <th>seats</th>\n",
       "    </tr>\n",
       "  </thead>\n",
       "  <tbody>\n",
       "    <tr>\n",
       "      <th>0</th>\n",
       "      <td>4</td>\n",
       "      <td>2019</td>\n",
       "      <td>8000</td>\n",
       "      <td>2</td>\n",
       "      <td>1</td>\n",
       "      <td>1</td>\n",
       "      <td>2</td>\n",
       "      <td>17.92</td>\n",
       "      <td>1086</td>\n",
       "      <td>62.0</td>\n",
       "      <td>7.0</td>\n",
       "    </tr>\n",
       "  </tbody>\n",
       "</table>\n",
       "</div>"
      ],
      "text/plain": [
       "   name  year  km_driven  fuel  seller_type  transmission  owner  mileage  \\\n",
       "0     4  2019       8000     2            1             1      2    17.92   \n",
       "\n",
       "   engine  max_power  seats  \n",
       "0    1086       62.0    7.0  "
      ]
     },
     "execution_count": 213,
     "metadata": {},
     "output_type": "execute_result"
    }
   ],
   "source": [
    "input_data_model"
   ]
  },
  {
   "cell_type": "code",
   "execution_count": 215,
   "id": "b87bdf6a-f53b-4636-8aee-70c226d5acf4",
   "metadata": {},
   "outputs": [
    {
     "data": {
      "text/plain": [
       "array([423220.74525474])"
      ]
     },
     "execution_count": 215,
     "metadata": {},
     "output_type": "execute_result"
    }
   ],
   "source": [
    "model.predict(input_data_model) #testing/evaluationg the model"
   ]
  },
  {
   "cell_type": "code",
   "execution_count": 217,
   "id": "9d1465e6-8d8d-4ed7-8225-10ea058f7f6a",
   "metadata": {},
   "outputs": [],
   "source": [
    "import pickle as pk"
   ]
  },
  {
   "cell_type": "code",
   "execution_count": 221,
   "id": "9e888f01-82a6-4af1-8c96-47b0237b7287",
   "metadata": {},
   "outputs": [],
   "source": [
    "pk.dump(model,open('model.pkl','wb'))"
   ]
  },
  {
   "cell_type": "code",
   "execution_count": 42,
   "id": "3d98637e-ddb7-4dc3-b663-9442a10d6b59",
   "metadata": {},
   "outputs": [
    {
     "name": "stdout",
     "output_type": "stream",
     "text": [
      "<class 'pandas.core.frame.DataFrame'>\n",
      "RangeIndex: 6718 entries, 0 to 6717\n",
      "Data columns (total 12 columns):\n",
      " #   Column         Non-Null Count  Dtype  \n",
      "---  ------         --------------  -----  \n",
      " 0   name           6718 non-null   int64  \n",
      " 1   year           6718 non-null   int64  \n",
      " 2   selling_price  6718 non-null   int64  \n",
      " 3   km_driven      6718 non-null   int64  \n",
      " 4   fuel           6718 non-null   int64  \n",
      " 5   seller_type    6718 non-null   int64  \n",
      " 6   transmission   6718 non-null   int64  \n",
      " 7   owner          6718 non-null   object \n",
      " 8   mileage        6718 non-null   object \n",
      " 9   engine         6718 non-null   object \n",
      " 10  max_power      6717 non-null   float64\n",
      " 11  seats          6718 non-null   float64\n",
      "dtypes: float64(2), int64(7), object(3)\n",
      "memory usage: 629.9+ KB\n"
     ]
    }
   ],
   "source": [
    "car_data.info()"
   ]
  },
  {
   "cell_type": "code",
   "execution_count": null,
   "id": "f541fb0c",
   "metadata": {},
   "outputs": [],
   "source": []
  },
  {
   "cell_type": "code",
   "execution_count": null,
   "id": "1f03fe31",
   "metadata": {},
   "outputs": [],
   "source": []
  }
 ],
 "metadata": {
  "kernelspec": {
   "display_name": "Python 3 (ipykernel)",
   "language": "python",
   "name": "python3"
  },
  "language_info": {
   "codemirror_mode": {
    "name": "ipython",
    "version": 3
   },
   "file_extension": ".py",
   "mimetype": "text/x-python",
   "name": "python",
   "nbconvert_exporter": "python",
   "pygments_lexer": "ipython3",
   "version": "3.11.7"
  }
 },
 "nbformat": 4,
 "nbformat_minor": 5
}
